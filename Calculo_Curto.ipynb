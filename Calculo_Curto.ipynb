{
 "cells": [
  {
   "cell_type": "markdown",
   "metadata": {
    "id": "AK4kTo-FIdup"
   },
   "source": [
    "# Cálculo de Corrente de Curto-Circuito em Baixa Tensão\n",
    "\n",
    "Este exemplo ilustra como calcular a corrente de curto-circuito em dois pontos diferentes de um sistema elétrico simples de baixa tensão. O circuito possui uma fonte de tensão, uma impedância associada à fonte, e uma impedância representando a linha de transmissão.\n",
    "\n",
    "---\n",
    "\n",
    "## **Descrição do Sistema**\n",
    "\n",
    "1. **Fonte de Tensão**: A tensão nominal da fonte é $V = 400 \\, \\text{V}$, com uma impedância interna $Z_f = 0.02 +j 0.1 \\, \\Omega$.\n",
    "2. **Linha de Transmissão**: Representada por uma impedância $Z_l = 0.03 + j0.15 \\, \\Omega$.\n",
    "3. **Pontos de Curto-Circuito**:\n",
    "   - **Ponto A**: Localizado logo após a fonte, considerando apenas a impedância $Z_f$.\n",
    "   - **Ponto B**: Localizado no final da linha, onde a impedância total é $Z_{total} = Z_f + Z_l$.\n",
    "\n",
    "---\n",
    "\n",
    "## **Fórmula para Corrente de Curto-Circuito**\n",
    "\n",
    "A corrente de curto-circuito é calculada pela equação:\n",
    "\n",
    "\\begin{equation*}\n",
    "I_{cc} = \\frac{V}{|Z_{total}|}\n",
    "\\end{equation*}\n",
    "\n",
    "\n",
    "Onde:\n",
    "- $I_{cc}$: Corrente de curto-circuito (A).\n",
    "- $V$: Tensão nominal (V).\n",
    "- $Z_{total}$: Impedância total até o ponto de curto $(\\Omega)$.\n",
    "- $|Z_{total}|$: Módulo da impedância total.\n",
    "\n",
    "---\n",
    "\n",
    "## **Cálculos Realizados**\n",
    "\n",
    "1. Para o **Ponto A**, a corrente de curto-circuito depende apenas da impedância da fonte ($Z_f$).\n",
    "2. Para o **Ponto B**, a corrente de curto-circuito considera a soma das impedâncias da fonte e da linha ($Z_f + Z_l$).\n",
    "\n",
    "---\n",
    "\n",
    "## **Resultados Esperados**\n",
    "\n",
    "- **Corrente no Ponto A**: A corrente será maior, pois a impedância é mínima.\n",
    "- **Corrente no Ponto B**: A corrente será menor, pois a soma das impedâncias aumenta.\n",
    "\n",
    "---\n",
    "\n",
    "## **Código Python**\n",
    "\n",
    "No exemplo fornecido, usamos Python para calcular a corrente de curto-circuito em ambos os pontos, apresentando também as impedâncias envolvidas para referência. O cálculo foi realizado utilizando números complexos para representar a resistência ($R$) e a reatância ($X$) do circuito.\n",
    "\n",
    "---\n",
    "\n",
    "## **Visualização**\n",
    "\n",
    "Foi gerado um diagrama esquemático que ilustra:\n",
    "- A fonte de tensão.\n",
    "- As impedâncias da fonte e da linha.\n",
    "- Os dois pontos de curto-circuito analisados.\n",
    "\n",
    "Esse diagrama serve para facilitar a compreensão dos cálculos e destacar como a localização do curto afeta a corrente.\n"
   ]
  },
  {
   "cell_type": "markdown",
   "metadata": {
    "id": "_f7xBAUCKjys"
   },
   "source": [
    "![image.png](data:image/png;base64,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)"
   ]
  },
  {
   "cell_type": "code",
   "execution_count": 19,
   "metadata": {
    "colab": {
     "base_uri": "https://localhost:8080/"
    },
    "id": "rp_PPWmkIgTg",
    "outputId": "fdcd3e3a-bde3-4e26-9445-1fbd7e2c1c60"
   },
   "outputs": [
    {
     "name": "stdout",
     "output_type": "stream",
     "text": [
      "Corrente de curto-circuito no ponto A: 5650.93 A\n",
      "Corrente de curto-circuito no ponto B: 3033.10 A\n",
      "\n",
      "Impedâncias:\n",
      "Impedância da fonte (Z_f): 0.0200+0.0103j Ω\n",
      "Impedância da linha (Z_l): 0.0177+0.0080j Ω\n",
      "Impedância total no ponto B (Z_total_B): 0.0377+0.0183j Ω\n"
     ]
    }
   ],
   "source": [
    "import numpy as np\n",
    "\n",
    "# Dados do sistema\n",
    "V_nominal = 127  # Tensão nominal (V)\n",
    "FP = 0.9  # Fator de potência do curto\n",
    "R_f = 0.02  # Resistência da fonte (ohms)\n",
    "\n",
    "# Cálculo da reatância da fonte com base no fator de potência\n",
    "phi = np.arccos(FP)  # Ângulo correspondente ao fator de potência\n",
    "\n",
    "# Parâmetros do condutor\n",
    "rho_copper = 1.68e-8  # Resistividade do cobre (ohm·m)\n",
    "A_copper = 95e-6  # Área da seção transversal (m²)\n",
    "X_l_per_km = 0.08  # Reatância indutiva aproximada (ohm/km)\n",
    "L = 100  # Comprimento do condutor (m)\n",
    "\n",
    "# Cálculo da resistência e reatância da linha\n",
    "R_line = (rho_copper * L) / A_copper\n",
    "X_line = (X_l_per_km * L) / 1000  # Converter para ohms\n",
    "Z_l = R_line + X_line * 1j  # Impedância da linha como número complexo\n",
    "\n",
    "X_f = (R_f+R_line) * np.tan(phi)-X_line  # Reatância da fonte\n",
    "Z_f = R_f + X_f * 1j  # Impedância da fonte como número complexo\n",
    "\n",
    "# Cálculo do curto-circuito no ponto A (próximo à fonte)\n",
    "Z_total_A = Z_f  # Apenas a impedância da fonte\n",
    "I_cc_A = V_nominal / abs(Z_total_A)  # Corrente de curto no ponto A (módulo)\n",
    "print(f\"Corrente de curto-circuito no ponto A: {I_cc_A:.2f} A\")\n",
    "\n",
    "# Cálculo do curto-circuito no ponto B (final da linha)\n",
    "Z_total_B = Z_f + Z_l  # Soma da impedância da fonte e da linha\n",
    "I_cc_B = V_nominal / abs(Z_total_B)  # Corrente de curto no ponto B (módulo)\n",
    "print(f\"Corrente de curto-circuito no ponto B: {I_cc_B:.2f} A\")\n",
    "\n",
    "# Valores das impedâncias para análise\n",
    "print(\"\\nImpedâncias:\")\n",
    "print(f\"Impedância da fonte (Z_f): {Z_f:.4f} Ω\")\n",
    "print(f\"Impedância da linha (Z_l): {Z_l:.4f} Ω\")\n",
    "print(f\"Impedância total no ponto B (Z_total_B): {Z_total_B:.4f} Ω\")\n"
   ]
  },
  {
   "cell_type": "markdown",
   "metadata": {
    "id": "ZgsG6xkCNSmq"
   },
   "source": [
    "\n",
    "   #    $ I_k = \\frac{\\displaystyle 12,7}{\\displaystyle \\sqrt{\\frac{162}{I_{k0}^2} + \\frac{57 \\cdot \\cos \\phi_{k0} \\cdot \\ell}{I_{k0} \\cdot S}} + \\frac{5 \\ell^2}{S^2}} \\quad (127/220 \\ [V]).$\n",
    "    \n",
    "\n",
    "\n",
    "\n",
    "##*   $I_{k0}= 2157,28 \\ [A] $\n",
    "##*   $ \\cos \\phi_{k0}=0,9$\n",
    "##*   $ \\ell=50 \\ [m] $\n",
    "##*   $ S=95 \\ [mm^2] $\n",
    "\n",
    "\n"
   ]
  },
  {
   "cell_type": "code",
   "execution_count": 22,
   "metadata": {
    "colab": {
     "base_uri": "https://localhost:8080/"
    },
    "id": "64FiRuksND3S",
    "outputId": "094522f7-6389-433e-93b9-a776324a2e94"
   },
   "outputs": [
    {
     "name": "stdout",
     "output_type": "stream",
     "text": [
      "Corrente de curto-circuito calculada pela equação fornecida (I_k) em B: 2.81 kA\n"
     ]
    }
   ],
   "source": [
    "# prompt: implement the equation above\n",
    "\n",
    "import numpy as np\n",
    "\n",
    "# Dados para a equação fornecida\n",
    "Ik0 = 5.651  # A\n",
    "cos_phi_k0 = 0.9\n",
    "l = 50  # m\n",
    "S = 95  # mm² (manter em mm² para consistência com a fórmula)\n",
    "\n",
    "# Implementando a equação\n",
    "# Note que a equação usa 127/220 em vez de V_nominal diretamente\n",
    "# I_k é calculado com base na equação dada:\n",
    "I_k = 12.7 / (np.sqrt((162 / (Ik0**2)) + ((57 * cos_phi_k0 * l) / (Ik0 * S))) + ((5 * (l**2)) / (S**2)))\n",
    "\n",
    "print(f\"Corrente de curto-circuito calculada pela equação fornecida (I_k) em B: {I_k:.2f} kA\")"
   ]
  },
  {
   "cell_type": "code",
   "execution_count": 23,
   "metadata": {
    "colab": {
     "base_uri": "https://localhost:8080/"
    },
    "id": "Npj7AJEdVVlY",
    "outputId": "f822f5d5-01ff-4154-b910-ad07fcb5aebd"
   },
   "outputs": [
    {
     "name": "stdout",
     "output_type": "stream",
     "text": [
      "O desvio relativo do cálculo das correntes em B é: 2.81 %\n"
     ]
    }
   ],
   "source": [
    "## Desvio Relativo dos cálculos\n",
    "\n",
    "Desv_B=np.abs(I_k-I_cc_B/I_cc_B)*100\n",
    "\n",
    "print(f\"O desvio relativo do cálculo das correntes em B é: {I_k:.2f} %\")"
   ]
  }
 ],
 "metadata": {
  "colab": {
   "provenance": []
  },
  "kernelspec": {
   "display_name": "Python 3",
   "name": "python3"
  },
  "language_info": {
   "name": "python"
  }
 },
 "nbformat": 4,
 "nbformat_minor": 0
}
